{
 "cells": [
  {
   "cell_type": "code",
   "execution_count": 40,
   "id": "5c15b9f3",
   "metadata": {},
   "outputs": [
    {
     "name": "stdout",
     "output_type": "stream",
     "text": [
      "Omo good day, what operation you dey wan perform ?\n",
      "1.Subtraction\n",
      "2.Addition\n",
      "3.Division\n",
      "4.Multiplication\n",
      "4\n",
      "Oga what b the first number: 6\n",
      "Oga enter second number: 4\n",
      "The product for be :24\n"
     ]
    }
   ],
   "source": [
    "#lets build a very simple calculator\n",
    "\n",
    "print('Omo good day, what operation you dey wan perform ?')\n",
    "print('1.Subtraction')\n",
    "print('2.Addition')\n",
    "print('3.Division')\n",
    "print('4.Multiplication')\n",
    "\n",
    "\n",
    "operation= input()\n",
    "\n",
    "if operation == \"1\": \n",
    "    #subtraction code\n",
    "    num1 = input(\"Oga what b the first number: \")\n",
    "    num2 = input(\"Oga enter second number: \")\n",
    "    print (\"Be like say when you subtract, the answer be :\" + str(int(num1) - int(num2)))\n",
    "\n",
    "    \n",
    "elif operation == \"2\":\n",
    "#     #addition code\n",
    "\n",
    "    num1 = input(\"Oga what b the first number: \")\n",
    "    num2 = input(\"Oga enter second number: \")\n",
    "    print (\"Be like say the summation is :\" + str(int(num1) + int(num2)))\n",
    "\n",
    "elif operation == \"3\":\n",
    "#     #division code\n",
    "    num1 = input(\"Oga what b the first number: \")\n",
    "    num2 = input(\"Oga enter second number: \")\n",
    "    print (\"As I divide, I get :\" + str(int(num1) / int(num2)))\n",
    "\n",
    "elif operation == \"4\":\n",
    "#     #multiplication code\n",
    "    num1 = input(\"Oga what b the first number: \")\n",
    "    num2 = input(\"Oga enter second number: \")\n",
    "    print (\"The product for be :\" + str(int(num1) * int(num2)))\n",
    "\n",
    "    \n",
    "else:\n",
    "    print (\"Invalid entry\")"
   ]
  },
  {
   "cell_type": "code",
   "execution_count": null,
   "id": "36e55b46",
   "metadata": {},
   "outputs": [],
   "source": []
  }
 ],
 "metadata": {
  "kernelspec": {
   "display_name": "Python 3 (ipykernel)",
   "language": "python",
   "name": "python3"
  },
  "language_info": {
   "codemirror_mode": {
    "name": "ipython",
    "version": 3
   },
   "file_extension": ".py",
   "mimetype": "text/x-python",
   "name": "python",
   "nbconvert_exporter": "python",
   "pygments_lexer": "ipython3",
   "version": "3.9.7"
  }
 },
 "nbformat": 4,
 "nbformat_minor": 5
}
