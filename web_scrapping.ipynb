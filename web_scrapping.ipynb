{
  "nbformat": 4,
  "nbformat_minor": 0,
  "metadata": {
    "colab": {
      "name": "web scrapping.ipynb",
      "provenance": [],
      "authorship_tag": "ABX9TyM4DrWQQkiEL7luz2aI2Ob6",
      "include_colab_link": true
    },
    "kernelspec": {
      "name": "python3",
      "display_name": "Python 3"
    },
    "language_info": {
      "name": "python"
    }
  },
  "cells": [
    {
      "cell_type": "markdown",
      "metadata": {
        "id": "view-in-github",
        "colab_type": "text"
      },
      "source": [
        "<a href=\"https://colab.research.google.com/github/ericakonadu/-100daysofcode/blob/main/web_scrapping.ipynb\" target=\"_parent\"><img src=\"https://colab.research.google.com/assets/colab-badge.svg\" alt=\"Open In Colab\"/></a>"
      ]
    },
    {
      "cell_type": "code",
      "execution_count": null,
      "metadata": {
        "id": "Nge-6viq_XbP"
      },
      "outputs": [],
      "source": [
        "!pip install bs4 requests lxml selenium\n"
      ]
    },
    {
      "cell_type": "code",
      "source": [
        "import requests as rq\n",
        "url =\"https://www.indeed.com/jobs?q=data%20science&l=Remote&vjk=a2c008533625ab9d\"\n",
        "res = rq.get(url)"
      ],
      "metadata": {
        "id": "ZM1fc0VCAYEJ"
      },
      "execution_count": 6,
      "outputs": []
    },
    {
      "cell_type": "code",
      "source": [
        "from bs4 import BeautifulSoup as bs #import the libraries\n",
        "jobs = bs(res.content)  #get content from page\n",
        "print(jobs)\n"
      ],
      "metadata": {
        "id": "vql4JMagKYJN"
      },
      "execution_count": null,
      "outputs": []
    },
    {
      "cell_type": "code",
      "source": [
        "results = jobs.find(id=\"resultsCol\")\n",
        "results"
      ],
      "metadata": {
        "id": "PYElP7p4N826"
      },
      "execution_count": null,
      "outputs": []
    },
    {
      "cell_type": "code",
      "source": [
        "c_results = results.find_all(\"div\", class_= \"messageContainer\")\n",
        "c_results"
      ],
      "metadata": {
        "id": "_2MT5vJQQXf2"
      },
      "execution_count": null,
      "outputs": []
    },
    {
      "cell_type": "code",
      "source": [
        "c_resuts1= results.find_all(\"h2\",class_=\"jobTitle\")\n",
        "job_titles = [t.text.strip() for t in c_resuts1] #get all jobs in roles\n",
        "\n",
        "job_titles\n"
      ],
      "metadata": {
        "id": "H-za7uwiSapP"
      },
      "execution_count": null,
      "outputs": []
    }
  ]
}