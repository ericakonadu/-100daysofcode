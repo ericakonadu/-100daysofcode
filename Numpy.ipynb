{
 "cells": [
  {
   "cell_type": "code",
   "execution_count": 8,
   "id": "5da63cbd",
   "metadata": {},
   "outputs": [],
   "source": [
    "karmito=[73,57,43]\n",
    "papito=[91,88,64]\n",
    "falito=[87,134,58]\n",
    "barmito=[102,43,37]\n",
    "marmito=[69,96,70]\n",
    "\n",
    "w1=0.3\n",
    "w2=0.2\n",
    "w3=0.5\n",
    "weights=[w1,w2,w3]"
   ]
  },
  {
   "cell_type": "code",
   "execution_count": 9,
   "id": "277c8800",
   "metadata": {},
   "outputs": [
    {
     "name": "stdout",
     "output_type": "stream",
     "text": [
      "(73, 0.3)\n",
      "(57, 0.2)\n",
      "(43, 0.5)\n"
     ]
    }
   ],
   "source": [
    "for item in zip (karmito, weights):\n",
    "    print (item)"
   ]
  },
  {
   "cell_type": "code",
   "execution_count": 11,
   "id": "34484836",
   "metadata": {},
   "outputs": [
    {
     "name": "stdout",
     "output_type": "stream",
     "text": [
      "73\n",
      "0.3\n",
      "57\n",
      "0.2\n",
      "43\n",
      "0.5\n"
     ]
    }
   ],
   "source": [
    "for x,w in zip (karmito, weights):\n",
    "    print (x)\n",
    "    print (w)"
   ]
  },
  {
   "cell_type": "code",
   "execution_count": 14,
   "id": "e8c1e907",
   "metadata": {},
   "outputs": [],
   "source": [
    "def crop_yield (region, weights):\n",
    "    result = 0\n",
    "    for x, w in zip(region, weights):\n",
    "        result += x*w\n",
    "    return result\n"
   ]
  },
  {
   "cell_type": "code",
   "execution_count": 16,
   "id": "a66b0c2b",
   "metadata": {},
   "outputs": [
    {
     "data": {
      "text/plain": [
       "54.8"
      ]
     },
     "execution_count": 16,
     "metadata": {},
     "output_type": "execute_result"
    }
   ],
   "source": [
    "crop_yield(karmito, weights)"
   ]
  },
  {
   "cell_type": "code",
   "execution_count": 20,
   "id": "a7f9c704",
   "metadata": {},
   "outputs": [
    {
     "data": {
      "text/plain": [
       "numpy.ndarray"
      ]
     },
     "execution_count": 20,
     "metadata": {},
     "output_type": "execute_result"
    }
   ],
   "source": [
    "import numpy as np\n",
    "\n",
    "karmito = np.array([73,57,43])\n",
    "karmito\n",
    "\n",
    "weights=np.array([0.3,0.2,0.5])\n",
    "weights\n",
    "\n"
   ]
  },
  {
   "cell_type": "code",
   "execution_count": 25,
   "id": "fe2410a5",
   "metadata": {},
   "outputs": [
    {
     "data": {
      "text/plain": [
       "54.8"
      ]
     },
     "execution_count": 25,
     "metadata": {},
     "output_type": "execute_result"
    }
   ],
   "source": [
    "type(karmito)\n",
    "\n",
    "np.dot(karmito, weights)\n",
    "\n",
    "karmito\n",
    "weights\n",
    "\n",
    "(karmito*weights).sum()"
   ]
  }
 ],
 "metadata": {
  "kernelspec": {
   "display_name": "Python 3 (ipykernel)",
   "language": "python",
   "name": "python3"
  },
  "language_info": {
   "codemirror_mode": {
    "name": "ipython",
    "version": 3
   },
   "file_extension": ".py",
   "mimetype": "text/x-python",
   "name": "python",
   "nbconvert_exporter": "python",
   "pygments_lexer": "ipython3",
   "version": "3.9.7"
  }
 },
 "nbformat": 4,
 "nbformat_minor": 5
}
