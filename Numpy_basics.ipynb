{
 "cells": [
  {
   "cell_type": "code",
   "execution_count": 1,
   "id": "7c77a703",
   "metadata": {},
   "outputs": [
    {
     "data": {
      "text/plain": [
       "array([2, 1, 3, 4])"
      ]
     },
     "execution_count": 1,
     "metadata": {},
     "output_type": "execute_result"
    }
   ],
   "source": [
    "import numpy as np\n",
    "\n",
    "lista=[2,1,3,4] #a list\n",
    "np.array(lista) #now an array\n"
   ]
  },
  {
   "cell_type": "code",
   "execution_count": 5,
   "id": "0f160c61",
   "metadata": {},
   "outputs": [
    {
     "data": {
      "text/plain": [
       "array([[0., 0., 0., 0.],\n",
       "       [0., 0., 0., 0.]])"
      ]
     },
     "execution_count": 5,
     "metadata": {},
     "output_type": "execute_result"
    }
   ],
   "source": [
    "a=np.zeros((2,4)) #an array of zero\n",
    "\n",
    "a\n"
   ]
  },
  {
   "cell_type": "code",
   "execution_count": 7,
   "id": "4619880d",
   "metadata": {},
   "outputs": [
    {
     "data": {
      "text/plain": [
       "array([[1., 1., 1., 1.],\n",
       "       [1., 1., 1., 1.]])"
      ]
     },
     "execution_count": 7,
     "metadata": {},
     "output_type": "execute_result"
    }
   ],
   "source": [
    "b=np.ones((2,4))\n",
    "b"
   ]
  },
  {
   "cell_type": "code",
   "execution_count": 9,
   "id": "4585d0b3",
   "metadata": {},
   "outputs": [
    {
     "data": {
      "text/plain": [
       "array([2.        , 2.04081633, 2.08163265, 2.12244898, 2.16326531,\n",
       "       2.20408163, 2.24489796, 2.28571429, 2.32653061, 2.36734694,\n",
       "       2.40816327, 2.44897959, 2.48979592, 2.53061224, 2.57142857,\n",
       "       2.6122449 , 2.65306122, 2.69387755, 2.73469388, 2.7755102 ,\n",
       "       2.81632653, 2.85714286, 2.89795918, 2.93877551, 2.97959184,\n",
       "       3.02040816, 3.06122449, 3.10204082, 3.14285714, 3.18367347,\n",
       "       3.2244898 , 3.26530612, 3.30612245, 3.34693878, 3.3877551 ,\n",
       "       3.42857143, 3.46938776, 3.51020408, 3.55102041, 3.59183673,\n",
       "       3.63265306, 3.67346939, 3.71428571, 3.75510204, 3.79591837,\n",
       "       3.83673469, 3.87755102, 3.91836735, 3.95918367, 4.        ])"
      ]
     },
     "execution_count": 9,
     "metadata": {},
     "output_type": "execute_result"
    }
   ],
   "source": [
    "c = np.linspace(2,4) #an array of linearly spaced values\n",
    "c"
   ]
  },
  {
   "cell_type": "code",
   "execution_count": 12,
   "id": "51f1bd13",
   "metadata": {},
   "outputs": [
    {
     "data": {
      "text/plain": [
       "array([[0, 1, 2, 3, 4],\n",
       "       [5, 6, 7, 8, 9]])"
      ]
     },
     "execution_count": 12,
     "metadata": {},
     "output_type": "execute_result"
    }
   ],
   "source": [
    "d=np.arange(10).reshape(2,5) #arrange 100values in the shape of 2x5\n",
    "d"
   ]
  },
  {
   "cell_type": "code",
   "execution_count": 13,
   "id": "3f0b77fa",
   "metadata": {},
   "outputs": [
    {
     "data": {
      "text/plain": [
       "array([[1., 1., 1., 1.],\n",
       "       [1., 1., 1., 1.]])"
      ]
     },
     "execution_count": 13,
     "metadata": {},
     "output_type": "execute_result"
    }
   ],
   "source": [
    "a+b #add"
   ]
  },
  {
   "cell_type": "code",
   "execution_count": 18,
   "id": "c5691ad1",
   "metadata": {},
   "outputs": [
    {
     "data": {
      "text/plain": [
       "array([[0., 0., 0., 0.],\n",
       "       [0., 0., 0., 0.]])"
      ]
     },
     "execution_count": 18,
     "metadata": {},
     "output_type": "execute_result"
    }
   ],
   "source": [
    "a * b #multiplication"
   ]
  },
  {
   "cell_type": "code",
   "execution_count": 20,
   "id": "3b00b0d2",
   "metadata": {},
   "outputs": [
    {
     "data": {
      "text/plain": [
       "array([[0., 0., 0., 0.],\n",
       "       [0., 0., 0., 0.]])"
      ]
     },
     "execution_count": 20,
     "metadata": {},
     "output_type": "execute_result"
    }
   ],
   "source": [
    "a/b #divide  "
   ]
  },
  {
   "cell_type": "code",
   "execution_count": 23,
   "id": "d64ab500",
   "metadata": {},
   "outputs": [
    {
     "data": {
      "text/plain": [
       "1.1072099696478683"
      ]
     },
     "execution_count": 23,
     "metadata": {},
     "output_type": "execute_result"
    }
   ],
   "source": [
    "np.log10(12.8) #log value"
   ]
  },
  {
   "cell_type": "code",
   "execution_count": 25,
   "id": "fb8dae94",
   "metadata": {},
   "outputs": [
    {
     "data": {
      "text/plain": [
       "array([[0., 0., 0., 0.],\n",
       "       [0., 0., 0., 0.]])"
      ]
     },
     "execution_count": 25,
     "metadata": {},
     "output_type": "execute_result"
    }
   ],
   "source": [
    "np.sin(a) #sin of a"
   ]
  },
  {
   "cell_type": "code",
   "execution_count": 29,
   "id": "51e6bcde",
   "metadata": {},
   "outputs": [
    {
     "data": {
      "text/plain": [
       "array([ 0,  1,  2,  3,  4,  5,  6,  7,  8,  9, 10, 11])"
      ]
     },
     "execution_count": 29,
     "metadata": {},
     "output_type": "execute_result"
    }
   ],
   "source": [
    "e = np.arange(12)\n",
    "e"
   ]
  },
  {
   "cell_type": "code",
   "execution_count": 30,
   "id": "a71b8f20",
   "metadata": {},
   "outputs": [
    {
     "data": {
      "text/plain": [
       "array([[ 0,  1,  2,  3],\n",
       "       [ 4,  5,  6,  7],\n",
       "       [ 8,  9, 10, 11]])"
      ]
     },
     "execution_count": 30,
     "metadata": {},
     "output_type": "execute_result"
    }
   ],
   "source": [
    "e.reshape(3,-1) #5rows x arbitrary columns"
   ]
  },
  {
   "cell_type": "code",
   "execution_count": 31,
   "id": "c5ced132",
   "metadata": {},
   "outputs": [
    {
     "name": "stdout",
     "output_type": "stream",
     "text": [
      "[ 0  1  2  3  4  5  6  7  8  9 10 11]\n"
     ]
    },
    {
     "data": {
      "text/plain": [
       "array([0, 1, 2])"
      ]
     },
     "execution_count": 31,
     "metadata": {},
     "output_type": "execute_result"
    }
   ],
   "source": [
    "#Indexing\n",
    "print(e)\n",
    "e[0:3] #start at 0 and end at 2 but exclude 3"
   ]
  },
  {
   "cell_type": "code",
   "execution_count": 32,
   "id": "ae16c062",
   "metadata": {},
   "outputs": [
    {
     "data": {
      "text/plain": [
       "array([0, 2, 4])"
      ]
     },
     "execution_count": 32,
     "metadata": {},
     "output_type": "execute_result"
    }
   ],
   "source": [
    "e[:5:2] #start end step"
   ]
  },
  {
   "cell_type": "code",
   "execution_count": 34,
   "id": "019291ae",
   "metadata": {},
   "outputs": [
    {
     "data": {
      "text/plain": [
       "array([[1., 1., 1., 1.],\n",
       "       [1., 1., 1., 1.]])"
      ]
     },
     "execution_count": 34,
     "metadata": {},
     "output_type": "execute_result"
    }
   ],
   "source": [
    "b=np.ones((2,4))\n",
    "b"
   ]
  },
  {
   "cell_type": "code",
   "execution_count": 37,
   "id": "990d79f9",
   "metadata": {},
   "outputs": [],
   "source": [
    "with open(\"mytext.txt\", \"w\") as f:   #with key word before open is to ensure we dont leave the file open\n",
    "    f.write(\"Numpy is amazing\")"
   ]
  }
 ],
 "metadata": {
  "kernelspec": {
   "display_name": "Python 3 (ipykernel)",
   "language": "python",
   "name": "python3"
  },
  "language_info": {
   "codemirror_mode": {
    "name": "ipython",
    "version": 3
   },
   "file_extension": ".py",
   "mimetype": "text/x-python",
   "name": "python",
   "nbconvert_exporter": "python",
   "pygments_lexer": "ipython3",
   "version": "3.9.7"
  }
 },
 "nbformat": 4,
 "nbformat_minor": 5
}
