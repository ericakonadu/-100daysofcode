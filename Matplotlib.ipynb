{
 "cells": [
  {
   "cell_type": "code",
   "execution_count": 63,
   "id": "d3147356",
   "metadata": {},
   "outputs": [],
   "source": [
    "import pandas as pd\n",
    "import numpy as np\n",
    "\n",
    "\n",
    "from matplotlib import pyplot as plt \n",
    "from matplotlib.pyplot import figure\n",
    "from datetime import datetime as dt"
   ]
  },
  {
   "cell_type": "code",
   "execution_count": 66,
   "id": "c983e1b0",
   "metadata": {},
   "outputs": [
    {
     "data": {
      "text/html": [
       "<div>\n",
       "<style scoped>\n",
       "    .dataframe tbody tr th:only-of-type {\n",
       "        vertical-align: middle;\n",
       "    }\n",
       "\n",
       "    .dataframe tbody tr th {\n",
       "        vertical-align: top;\n",
       "    }\n",
       "\n",
       "    .dataframe thead th {\n",
       "        text-align: right;\n",
       "    }\n",
       "</style>\n",
       "<table border=\"1\" class=\"dataframe\">\n",
       "  <thead>\n",
       "    <tr style=\"text-align: right;\">\n",
       "      <th></th>\n",
       "      <th>LT 1802</th>\n",
       "      <th>DATE</th>\n",
       "      <th>VALUE1</th>\n",
       "      <th>DIFF1</th>\n",
       "      <th>LT 1804</th>\n",
       "      <th>VALUE2</th>\n",
       "      <th>DIFF2</th>\n",
       "    </tr>\n",
       "  </thead>\n",
       "  <tbody>\n",
       "    <tr>\n",
       "      <th>0</th>\n",
       "      <td>LT-TA-1802-1/MEAS_MON.U</td>\n",
       "      <td>2022-12-03 06:00:00</td>\n",
       "      <td>4.946362</td>\n",
       "      <td>0.015967</td>\n",
       "      <td>LT-TA-1804-1/MEAS_MON.U</td>\n",
       "      <td>3.041324</td>\n",
       "      <td>-0.504225</td>\n",
       "    </tr>\n",
       "    <tr>\n",
       "      <th>1</th>\n",
       "      <td>LT-TA-1802-1/MEAS_MON.U</td>\n",
       "      <td>2022-12-03 06:10:00</td>\n",
       "      <td>4.930395</td>\n",
       "      <td>0.015967</td>\n",
       "      <td>LT-TA-1804-1/MEAS_MON.U</td>\n",
       "      <td>3.612930</td>\n",
       "      <td>-0.571606</td>\n",
       "    </tr>\n",
       "    <tr>\n",
       "      <th>2</th>\n",
       "      <td>LT-TA-1802-1/MEAS_MON.U</td>\n",
       "      <td>2022-12-03 06:20:00</td>\n",
       "      <td>4.914428</td>\n",
       "      <td>0.015967</td>\n",
       "      <td>LT-TA-1804-1/MEAS_MON.U</td>\n",
       "      <td>3.895310</td>\n",
       "      <td>-0.282380</td>\n",
       "    </tr>\n",
       "    <tr>\n",
       "      <th>3</th>\n",
       "      <td>LT-TA-1802-1/MEAS_MON.U</td>\n",
       "      <td>2022-12-03 06:30:00</td>\n",
       "      <td>4.898460</td>\n",
       "      <td>0.015967</td>\n",
       "      <td>LT-TA-1804-1/MEAS_MON.U</td>\n",
       "      <td>3.916010</td>\n",
       "      <td>-0.020700</td>\n",
       "    </tr>\n",
       "    <tr>\n",
       "      <th>4</th>\n",
       "      <td>LT-TA-1802-1/MEAS_MON.U</td>\n",
       "      <td>2022-12-03 06:40:00</td>\n",
       "      <td>4.882493</td>\n",
       "      <td>0.015967</td>\n",
       "      <td>LT-TA-1804-1/MEAS_MON.U</td>\n",
       "      <td>3.936709</td>\n",
       "      <td>-0.020699</td>\n",
       "    </tr>\n",
       "    <tr>\n",
       "      <th>...</th>\n",
       "      <td>...</td>\n",
       "      <td>...</td>\n",
       "      <td>...</td>\n",
       "      <td>...</td>\n",
       "      <td>...</td>\n",
       "      <td>...</td>\n",
       "      <td>...</td>\n",
       "    </tr>\n",
       "    <tr>\n",
       "      <th>428</th>\n",
       "      <td>LT-TA-1802-1/MEAS_MON.U</td>\n",
       "      <td>15/03/2022 05:20:00</td>\n",
       "      <td>2.663090</td>\n",
       "      <td>0.031498</td>\n",
       "      <td>LT-TA-1804-1/MEAS_MON.U</td>\n",
       "      <td>1.927463</td>\n",
       "      <td>0.034090</td>\n",
       "    </tr>\n",
       "    <tr>\n",
       "      <th>429</th>\n",
       "      <td>LT-TA-1802-1/MEAS_MON.U</td>\n",
       "      <td>15/03/2022 05:30:00</td>\n",
       "      <td>2.631592</td>\n",
       "      <td>0.031498</td>\n",
       "      <td>LT-TA-1804-1/MEAS_MON.U</td>\n",
       "      <td>1.893373</td>\n",
       "      <td>0.034090</td>\n",
       "    </tr>\n",
       "    <tr>\n",
       "      <th>430</th>\n",
       "      <td>LT-TA-1802-1/MEAS_MON.U</td>\n",
       "      <td>15/03/2022 05:40:00</td>\n",
       "      <td>2.600094</td>\n",
       "      <td>0.031498</td>\n",
       "      <td>LT-TA-1804-1/MEAS_MON.U</td>\n",
       "      <td>1.859283</td>\n",
       "      <td>0.034090</td>\n",
       "    </tr>\n",
       "    <tr>\n",
       "      <th>431</th>\n",
       "      <td>LT-TA-1802-1/MEAS_MON.U</td>\n",
       "      <td>15/03/2022 05:50:00</td>\n",
       "      <td>2.568597</td>\n",
       "      <td>0.031498</td>\n",
       "      <td>LT-TA-1804-1/MEAS_MON.U</td>\n",
       "      <td>1.825193</td>\n",
       "      <td>0.034090</td>\n",
       "    </tr>\n",
       "    <tr>\n",
       "      <th>432</th>\n",
       "      <td>LT-TA-1802-1/MEAS_MON.U</td>\n",
       "      <td>15/03/2022 06:00:00</td>\n",
       "      <td>2.537099</td>\n",
       "      <td>0.031498</td>\n",
       "      <td>LT-TA-1804-1/MEAS_MON.U</td>\n",
       "      <td>1.791103</td>\n",
       "      <td>0.034090</td>\n",
       "    </tr>\n",
       "  </tbody>\n",
       "</table>\n",
       "<p>433 rows × 7 columns</p>\n",
       "</div>"
      ],
      "text/plain": [
       "                     LT 1802                 DATE    VALUE1     DIFF1  \\\n",
       "0    LT-TA-1802-1/MEAS_MON.U  2022-12-03 06:00:00  4.946362  0.015967   \n",
       "1    LT-TA-1802-1/MEAS_MON.U  2022-12-03 06:10:00  4.930395  0.015967   \n",
       "2    LT-TA-1802-1/MEAS_MON.U  2022-12-03 06:20:00  4.914428  0.015967   \n",
       "3    LT-TA-1802-1/MEAS_MON.U  2022-12-03 06:30:00  4.898460  0.015967   \n",
       "4    LT-TA-1802-1/MEAS_MON.U  2022-12-03 06:40:00  4.882493  0.015967   \n",
       "..                       ...                  ...       ...       ...   \n",
       "428  LT-TA-1802-1/MEAS_MON.U  15/03/2022 05:20:00  2.663090  0.031498   \n",
       "429  LT-TA-1802-1/MEAS_MON.U  15/03/2022 05:30:00  2.631592  0.031498   \n",
       "430  LT-TA-1802-1/MEAS_MON.U  15/03/2022 05:40:00  2.600094  0.031498   \n",
       "431  LT-TA-1802-1/MEAS_MON.U  15/03/2022 05:50:00  2.568597  0.031498   \n",
       "432  LT-TA-1802-1/MEAS_MON.U  15/03/2022 06:00:00  2.537099  0.031498   \n",
       "\n",
       "                     LT 1804    VALUE2     DIFF2  \n",
       "0    LT-TA-1804-1/MEAS_MON.U  3.041324 -0.504225  \n",
       "1    LT-TA-1804-1/MEAS_MON.U  3.612930 -0.571606  \n",
       "2    LT-TA-1804-1/MEAS_MON.U  3.895310 -0.282380  \n",
       "3    LT-TA-1804-1/MEAS_MON.U  3.916010 -0.020700  \n",
       "4    LT-TA-1804-1/MEAS_MON.U  3.936709 -0.020699  \n",
       "..                       ...       ...       ...  \n",
       "428  LT-TA-1804-1/MEAS_MON.U  1.927463  0.034090  \n",
       "429  LT-TA-1804-1/MEAS_MON.U  1.893373  0.034090  \n",
       "430  LT-TA-1804-1/MEAS_MON.U  1.859283  0.034090  \n",
       "431  LT-TA-1804-1/MEAS_MON.U  1.825193  0.034090  \n",
       "432  LT-TA-1804-1/MEAS_MON.U  1.791103  0.034090  \n",
       "\n",
       "[433 rows x 7 columns]"
      ]
     },
     "execution_count": 66,
     "metadata": {},
     "output_type": "execute_result"
    }
   ],
   "source": [
    "df = pd.read_excel(\"C:/Users/Erica Konadu/Documents/1802, 1804.xlsx\")\n",
    "df"
   ]
  },
  {
   "cell_type": "code",
   "execution_count": 69,
   "id": "41612db8",
   "metadata": {},
   "outputs": [
    {
     "data": {
      "text/plain": [
       "0.8622709597383141"
      ]
     },
     "execution_count": 69,
     "metadata": {},
     "output_type": "execute_result"
    }
   ],
   "source": [
    "corr = df['VALUE1'].corr(df['VALUE2'])\n",
    "corr"
   ]
  },
  {
   "cell_type": "code",
   "execution_count": 68,
   "id": "4c066b6b",
   "metadata": {},
   "outputs": [
    {
     "data": {
      "text/plain": [
       "LT 1802     object\n",
       "DATE        object\n",
       "VALUE1     float64\n",
       "DIFF1      float64\n",
       "LT 1804     object\n",
       "VALUE2     float64\n",
       "DIFF2      float64\n",
       "dtype: object"
      ]
     },
     "execution_count": 68,
     "metadata": {},
     "output_type": "execute_result"
    }
   ],
   "source": [
    "df.dtypes"
   ]
  },
  {
   "cell_type": "code",
   "execution_count": 20,
   "id": "023dd67c",
   "metadata": {},
   "outputs": [
    {
     "data": {
      "text/plain": [
       "LT 1802            object\n",
       "DATE       datetime64[ns]\n",
       "VALUE1            float64\n",
       "DIFF1             float64\n",
       "LT 1804            object\n",
       "VALUE2            float64\n",
       "DIFF2             float64\n",
       "dtype: object"
      ]
     },
     "execution_count": 20,
     "metadata": {},
     "output_type": "execute_result"
    }
   ],
   "source": [
    "df['DATE']= pd.to_datetime(df['DATE'])\n",
    "df.head\n",
    "df.dtypes"
   ]
  },
  {
   "cell_type": "code",
   "execution_count": 23,
   "id": "f2be2b0e",
   "metadata": {},
   "outputs": [
    {
     "data": {
      "text/plain": [
       "[<matplotlib.lines.Line2D at 0x29162db2160>]"
      ]
     },
     "execution_count": 23,
     "metadata": {},
     "output_type": "execute_result"
    },
    {
     "data": {
      "image/png": "[encoded data removed]",
      "text/plain": [
       "<Figure size 432x288 with 1 Axes>"
      ]
     },
     "metadata": {
      "needs_background": "light"
     },
     "output_type": "display_data"
    }
   ],
   "source": [
    "x=df['DATE']\n",
    "y=df['VALUE2']\n",
    "plt.plot(x,y)"
   ]
  },
  {
   "cell_type": "code",
   "execution_count": 28,
   "id": "ec91846c",
   "metadata": {},
   "outputs": [
    {
     "data": {
      "text/plain": [
       "0      4.946362\n",
       "1      4.930395\n",
       "2      4.914428\n",
       "3      4.898460\n",
       "4      4.882493\n",
       "         ...   \n",
       "428    2.663090\n",
       "429    2.631592\n",
       "430    2.600094\n",
       "431    2.568597\n",
       "432    2.537099\n",
       "Name: VALUE1, Length: 433, dtype: float64"
      ]
     },
     "execution_count": 28,
     "metadata": {},
     "output_type": "execute_result"
    }
   ],
   "source": [
    "type(df['DATE'])\n",
    "df.VALUE1"
   ]
  },
  {
   "cell_type": "code",
   "execution_count": 29,
   "id": "5d7f3a55",
   "metadata": {},
   "outputs": [
    {
     "data": {
      "text/plain": [
       "0      3.041324\n",
       "1      3.612930\n",
       "2      3.895310\n",
       "3      3.916010\n",
       "4      3.936709\n",
       "         ...   \n",
       "428    1.927463\n",
       "429    1.893373\n",
       "430    1.859283\n",
       "431    1.825193\n",
       "432    1.791103\n",
       "Name: VALUE2, Length: 433, dtype: float64"
      ]
     },
     "execution_count": 29,
     "metadata": {},
     "output_type": "execute_result"
    }
   ],
   "source": [
    "df.VALUE2"
   ]
  },
  {
   "cell_type": "code",
   "execution_count": 62,
   "id": "4767c441",
   "metadata": {},
   "outputs": [
    {
     "data": {
      "text/plain": [
       "<function matplotlib.pyplot.show(close=None, block=None)>"
      ]
     },
     "execution_count": 62,
     "metadata": {},
     "output_type": "execute_result"
    },
    {
     "data": {
      "image/png": "[encoded data removed]",
      "text/plain": [
       "<Figure size 864x576 with 1 Axes>"
      ]
     },
     "metadata": {
      "needs_background": "light"
     },
     "output_type": "display_data"
    }
   ],
   "source": [
    "plt.figure(figsize=(12,8))\n",
    "\n",
    "plt.plot(df.DATE,df.VALUE1)\n",
    "plt.plot(df.DATE,df.VALUE2)\n",
    "plt.title('Findind a relationship between 1802 and 1804')\n",
    "plt.legend(['1802', '1804'])\n",
    "plt.xlabel('Datetime')\n",
    "plt.ylabel('1802, 1804')\n",
    "plt.show\n",
    "\n"
   ]
  }
 ],
 "metadata": {
  "kernelspec": {
   "display_name": "Python 3 (ipykernel)",
   "language": "python",
   "name": "python3"
  },
  "language_info": {
   "codemirror_mode": {
    "name": "ipython",
    "version": 3
   },
   "file_extension": ".py",
   "mimetype": "text/x-python",
   "name": "python",
   "nbconvert_exporter": "python",
   "pygments_lexer": "ipython3",
   "version": "3.9.7"
  }
 },
 "nbformat": 4,
 "nbformat_minor": 5
}
